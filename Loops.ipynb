{
 "cells": [
  {
   "cell_type": "markdown",
   "metadata": {},
   "source": [
    "## EECS 1000 demo program\n",
    "This program goes over basic looping and conditional statement examples, using . These examples were be gone over in the debugger to show how each one of the examples work. HUZZAH!"
   ]
  },
  {
   "cell_type": "code",
   "execution_count": 1,
   "metadata": {},
   "outputs": [],
   "source": [
    "#include <iostream>\n",
    "\n",
    "using namespace std; //Brendan's favorite!"
   ]
  },
  {
   "cell_type": "code",
   "execution_count": 2,
   "metadata": {},
   "outputs": [
    {
     "name": "stdout",
     "output_type": "stream",
     "text": [
      "Ollie is not fat! He is perfect!\n",
      "Ollie is not fat! He is perfect!\n",
      "Well, Ollie may be a bit fat now. But he is still perfect\n"
     ]
    }
   ],
   "source": [
    "//while loop example \n",
    "bool ollieIsFat = true;\n",
    "int ollieWeight = 0;\n",
    "\n",
    "cin >> ollieWeight;\n",
    "\n",
    "while (ollieIsFat)\n",
    "{\n",
    "    //if...else conditional statement example \n",
    "    if (ollieWeight < 20)\n",
    "    {\n",
    "        cout << \"Ollie is not fat! He is perfect!\" << endl;\n",
    "        ollieWeight += 10; //this adds 10 to the ollieWeight variable\n",
    "    }\n",
    "    else\n",
    "    {\n",
    "        cout << \"Well, Ollie may be a bit fat now. But he is still perfect\" << endl;\n",
    "        ollieIsFat = false;\n",
    "    }\n",
    "}\n"
   ]
  },
  {
   "cell_type": "code",
   "execution_count": null,
   "metadata": {},
   "outputs": [],
   "source": []
  }
 ],
 "metadata": {
  "kernelspec": {
   "display_name": "C++14",
   "language": "C++14",
   "name": "xeus-cling-cpp14"
  },
  "language_info": {
   "codemirror_mode": "text/x-c++src",
   "file_extension": ".cpp",
   "mimetype": "text/x-c++src",
   "name": "c++",
   "version": "-std=c++14"
  }
 },
 "nbformat": 4,
 "nbformat_minor": 2
}
