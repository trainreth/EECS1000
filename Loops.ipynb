{
 "cells": [
  {
   "cell_type": "markdown",
   "metadata": {},
   "source": [
    "## EECS 1000 demo program\n",
    "This program goes over basic looping and conditional statement examples, involving Sarah and Maggie's awesome cats. These examples were be gone over in the debugger to show how each one of the examples work. HUZZAH!"
   ]
  },
  {
   "cell_type": "code",
   "execution_count": null,
   "metadata": {},
   "outputs": [],
   "source": [
    "#include <iostream>\n",
    "\n",
    "using namespace std; //Brendan's favorite!"
   ]
  },
  {
   "cell_type": "code",
   "execution_count": null,
   "metadata": {
    "scrolled": false
   },
   "outputs": [],
   "source": [
    "//while loop example \n",
    "bool ollieIsFat = true;\n",
    "int ollieWeight = 0;\n",
    "\n",
    "while (ollieIsFat)\n",
    "{\n",
    "    //if...else conditional statement example \n",
    "    if (ollieWeight < 20)\n",
    "    {\n",
    "        cout << \"Ollie is not fat! He is perfect!\" << endl;\n",
    "        ollieWeight += 10; //this adds 10 to the ollieWeight variable\n",
    "    }\n",
    "    else\n",
    "    {\n",
    "        cout << \"Well, Ollie may be a bit fat now. But he is still perfect\" << endl;\n",
    "        ollieIsFat = false;\n",
    "    }\n",
    "}\n"
   ]
  },
  {
   "cell_type": "code",
   "execution_count": null,
   "metadata": {},
   "outputs": [],
   "source": [
    "//do while example\n",
    "bool zoeIsFluffy = true; \n",
    "int treat = 0; \n",
    "\n",
    "do\n",
    "{\n",
    "    //if...else if...else example \n",
    "    if (treat <= 3)\n",
    "    {\n",
    "        cout << \"I must give Zoe some treats\" << endl;\n",
    "        treat++;\n",
    "    }\n",
    "    else if (treat == 5)\n",
    "    {\n",
    "        cout << \"MORE TREATS FOR ZOE\" << endl;\n",
    "        treat += 10;\n",
    "    }\n",
    "    else\n",
    "    {\n",
    "        cout << \"that is too many treats for Zoe, no more treats\" << endl;\n",
    "        zoeIsFluffy = false;\n",
    "    }\n",
    "} while (zoeIsFluffy);"
   ]
  },
  {
   "cell_type": "code",
   "execution_count": null,
   "metadata": {},
   "outputs": [],
   "source": [
    "//for loop example\n",
    "char amazingCats[3][6] = { \"Tajo\", \"Zoe\", \"Ollie\" };\n",
    "\n",
    "for (int numPets = 0; numPets <= 2; numPets++)\n",
    "{\n",
    "    cout << amazingCats[numPets] << \"\\n\";\n",
    "}"
   ]
  },
  {
   "cell_type": "code",
   "execution_count": null,
   "metadata": {},
   "outputs": [],
   "source": [
    "//switch statement example\n",
    "int tajoMeows = 30;\n",
    "\n",
    "switch (tajoMeows) \n",
    "{\n",
    "    case 10:\n",
    "    cout << \"What is it Tajo?\" << endl;\n",
    "    break;\n",
    "        \n",
    "    case 20:\n",
    "    cout << \"Do you see a squirrel or something?\" << endl;\n",
    "    break;\n",
    "\n",
    "    case 30:\n",
    "    cout << \"OMG THERE IS A CAT THE SIZE OF A HOUSE OUTSIDE MY WINDOW\" << endl;\n",
    "    break;\n",
    "\n",
    "    default:\n",
    "    cout << \"Yay EECS 1000, you are learning things about loops, conditionals, and of course CATS\" << endl;\n",
    "}"
   ]
  },
  {
   "cell_type": "code",
   "execution_count": null,
   "metadata": {},
   "outputs": [],
   "source": []
  }
 ],
 "metadata": {
  "kernelspec": {
   "display_name": "C++14",
   "language": "C++14",
   "name": "xeus-cling-cpp14"
  },
  "language_info": {
   "codemirror_mode": "text/x-c++src",
   "file_extension": ".cpp",
   "mimetype": "text/x-c++src",
   "name": "c++",
   "version": "-std=c++14"
  }
 },
 "nbformat": 4,
 "nbformat_minor": 2
}
